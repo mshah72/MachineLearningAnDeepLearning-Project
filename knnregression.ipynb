{
 "cells": [
  {
   "cell_type": "code",
   "execution_count": 1,
   "metadata": {},
   "outputs": [],
   "source": [
    "import pandas as pd\n",
    "from sklearn.pipeline import Pipeline\n",
    "from sklearn.pipeline import make_pipeline\n",
    "from sklearn.preprocessing import PolynomialFeatures\n",
    "from sklearn.metrics import mean_squared_error, r2_score, mean_absolute_error\n",
    "import numpy as np\n",
    "import time \n",
    "import matplotlib.pyplot as plt\n",
    "from sklearn.neighbors import KNeighborsRegressor"
   ]
  },
  {
   "cell_type": "code",
   "execution_count": 2,
   "metadata": {},
   "outputs": [],
   "source": [
    "# Load the datasetata = \"usedcars.csv\"\n",
    "train_data = 'test_data.csv'\n",
    "train = pd.read_csv(train_data)\n",
    "\n",
    "test_data = 'test_data.csv'\n",
    "test = pd.read_csv(test_data)"
   ]
  },
  {
   "cell_type": "code",
   "execution_count": 3,
   "metadata": {},
   "outputs": [],
   "source": [
    "X_train = train.drop(['price'], axis=1)\n",
    "y_train = train['price']\n",
    "X_test = test.drop(['price'], axis=1)\n",
    "y_test = test['price']"
   ]
  },
  {
   "cell_type": "code",
   "execution_count": 4,
   "metadata": {},
   "outputs": [
    {
     "data": {
      "text/html": [
       "<div>\n",
       "<style scoped>\n",
       "    .dataframe tbody tr th:only-of-type {\n",
       "        vertical-align: middle;\n",
       "    }\n",
       "\n",
       "    .dataframe tbody tr th {\n",
       "        vertical-align: top;\n",
       "    }\n",
       "\n",
       "    .dataframe thead th {\n",
       "        text-align: right;\n",
       "    }\n",
       "</style>\n",
       "<table border=\"1\" class=\"dataframe\">\n",
       "  <thead>\n",
       "    <tr style=\"text-align: right;\">\n",
       "      <th></th>\n",
       "      <th>isOneOwner</th>\n",
       "      <th>mileage</th>\n",
       "      <th>year</th>\n",
       "      <th>displacement</th>\n",
       "      <th>trim</th>\n",
       "    </tr>\n",
       "  </thead>\n",
       "  <tbody>\n",
       "    <tr>\n",
       "      <th>0</th>\n",
       "      <td>0</td>\n",
       "      <td>92.650</td>\n",
       "      <td>2008</td>\n",
       "      <td>5.5</td>\n",
       "      <td>7.0</td>\n",
       "    </tr>\n",
       "    <tr>\n",
       "      <th>1</th>\n",
       "      <td>0</td>\n",
       "      <td>26.349</td>\n",
       "      <td>2011</td>\n",
       "      <td>5.5</td>\n",
       "      <td>7.0</td>\n",
       "    </tr>\n",
       "    <tr>\n",
       "      <th>2</th>\n",
       "      <td>0</td>\n",
       "      <td>24.670</td>\n",
       "      <td>2010</td>\n",
       "      <td>5.5</td>\n",
       "      <td>7.0</td>\n",
       "    </tr>\n",
       "    <tr>\n",
       "      <th>3</th>\n",
       "      <td>1</td>\n",
       "      <td>38.425</td>\n",
       "      <td>2007</td>\n",
       "      <td>5.5</td>\n",
       "      <td>7.0</td>\n",
       "    </tr>\n",
       "    <tr>\n",
       "      <th>4</th>\n",
       "      <td>1</td>\n",
       "      <td>117.038</td>\n",
       "      <td>2007</td>\n",
       "      <td>5.5</td>\n",
       "      <td>7.0</td>\n",
       "    </tr>\n",
       "    <tr>\n",
       "      <th>...</th>\n",
       "      <td>...</td>\n",
       "      <td>...</td>\n",
       "      <td>...</td>\n",
       "      <td>...</td>\n",
       "      <td>...</td>\n",
       "    </tr>\n",
       "    <tr>\n",
       "      <th>4008</th>\n",
       "      <td>0</td>\n",
       "      <td>58.356</td>\n",
       "      <td>2007</td>\n",
       "      <td>5.5</td>\n",
       "      <td>7.0</td>\n",
       "    </tr>\n",
       "    <tr>\n",
       "      <th>4009</th>\n",
       "      <td>0</td>\n",
       "      <td>79.801</td>\n",
       "      <td>2008</td>\n",
       "      <td>5.5</td>\n",
       "      <td>7.0</td>\n",
       "    </tr>\n",
       "    <tr>\n",
       "      <th>4010</th>\n",
       "      <td>1</td>\n",
       "      <td>17.260</td>\n",
       "      <td>2012</td>\n",
       "      <td>4.6</td>\n",
       "      <td>7.0</td>\n",
       "    </tr>\n",
       "    <tr>\n",
       "      <th>4011</th>\n",
       "      <td>0</td>\n",
       "      <td>63.189</td>\n",
       "      <td>2009</td>\n",
       "      <td>5.5</td>\n",
       "      <td>7.0</td>\n",
       "    </tr>\n",
       "    <tr>\n",
       "      <th>4012</th>\n",
       "      <td>0</td>\n",
       "      <td>49.135</td>\n",
       "      <td>2010</td>\n",
       "      <td>5.5</td>\n",
       "      <td>7.0</td>\n",
       "    </tr>\n",
       "  </tbody>\n",
       "</table>\n",
       "<p>4013 rows × 5 columns</p>\n",
       "</div>"
      ],
      "text/plain": [
       "      isOneOwner  mileage  year  displacement  trim\n",
       "0              0   92.650  2008           5.5   7.0\n",
       "1              0   26.349  2011           5.5   7.0\n",
       "2              0   24.670  2010           5.5   7.0\n",
       "3              1   38.425  2007           5.5   7.0\n",
       "4              1  117.038  2007           5.5   7.0\n",
       "...          ...      ...   ...           ...   ...\n",
       "4008           0   58.356  2007           5.5   7.0\n",
       "4009           0   79.801  2008           5.5   7.0\n",
       "4010           1   17.260  2012           4.6   7.0\n",
       "4011           0   63.189  2009           5.5   7.0\n",
       "4012           0   49.135  2010           5.5   7.0\n",
       "\n",
       "[4013 rows x 5 columns]"
      ]
     },
     "execution_count": 4,
     "metadata": {},
     "output_type": "execute_result"
    }
   ],
   "source": [
    "X_train"
   ]
  },
  {
   "cell_type": "code",
   "execution_count": 5,
   "metadata": {},
   "outputs": [
    {
     "name": "stdout",
     "output_type": "stream",
     "text": [
      "0.027127981185913086\n",
      "\n",
      "knn regression:\n",
      "MSE: 9.23, RMSE: 3.04, R-squared: 0.97, MAE: 2.12\n"
     ]
    }
   ],
   "source": [
    "# Train the knn regression model\n",
    "neigh = KNeighborsRegressor(n_neighbors=2)\n",
    "start_knn = time.time()\n",
    "neigh.fit(X_train, y_train)\n",
    "stop_knn = time.time()\n",
    "y_pred_knn = neigh.predict(X_test)\n",
    "\n",
    "print(stop_knn - start_knn)\n",
    "\n",
    "\n",
    "mse_knn = mean_squared_error(y_test, y_pred_knn)\n",
    "rmse_knn = np.sqrt(mse_knn)\n",
    "r2_knn = r2_score(y_test, y_pred_knn)\n",
    "mae_knn = mean_absolute_error(y_test, y_pred_knn)\n",
    "\n",
    "# Print the results\n",
    "print(\"\\nknn regression:\")\n",
    "print(f\"MSE: {mse_knn:.2f}, RMSE: {rmse_knn:.2f}, R-squared: {r2_knn:.2f}, MAE: {mae_knn:.2f}\")"
   ]
  },
  {
   "cell_type": "code",
   "execution_count": 6,
   "metadata": {},
   "outputs": [],
   "source": [
    "y1pred = neigh.predict(X_test) # predicting test data\n",
    "y1_hat = neigh.predict(X_train) # predicting train data"
   ]
  },
  {
   "cell_type": "code",
   "execution_count": 7,
   "metadata": {},
   "outputs": [
    {
     "data": {
      "text/plain": [
       "Text(0, 0.5, 'yhat')"
      ]
     },
     "execution_count": 7,
     "metadata": {},
     "output_type": "execute_result"
    },
    {
     "data": {
      "image/png": "[encoded data removed]",
      "text/plain": [
       "<Figure size 432x288 with 1 Axes>"
      ]
     },
     "metadata": {
      "needs_background": "light"
     },
     "output_type": "display_data"
    }
   ],
   "source": [
    "# plotting trained price v/s predicted trained price\n",
    "plt.title(\"Plot of Train Data\")\n",
    "plt.scatter(y_train,y1_hat,s=0.5,c='b')\n",
    "plt.plot(y_train,y_train,c='red')\n",
    "plt.xlabel('trained y'); plt.ylabel('yhat')"
   ]
  },
  {
   "cell_type": "code",
   "execution_count": 9,
   "metadata": {},
   "outputs": [
    {
     "data": {
      "text/plain": [
       "Text(0.5, 1.0, 'KNN (with SelectKBest)')"
      ]
     },
     "execution_count": 9,
     "metadata": {},
     "output_type": "execute_result"
    },
    {
     "data": {
      "image/png": "[encoded data removed]",
      "text/plain": [
       "<Figure size 432x288 with 1 Axes>"
      ]
     },
     "metadata": {
      "needs_background": "light"
     },
     "output_type": "display_data"
    }
   ],
   "source": [
    "# plotting tested price v/s predicted tested price\n",
    "plt.scatter(y_test,y1pred,s=0.5,c='b')\n",
    "plt.plot(y_test,y_test,c='r')\n",
    "plt.xlabel('Actual Data'); plt.ylabel('Predicted Data')\n",
    "plt.title(\"KNN (with SelectKBest)\")"
   ]
  },
  {
   "cell_type": "code",
   "execution_count": null,
   "metadata": {},
   "outputs": [],
   "source": []
  }
 ],
 "metadata": {
  "kernelspec": {
   "display_name": "base",
   "language": "python",
   "name": "python3"
  },
  "language_info": {
   "codemirror_mode": {
    "name": "ipython",
    "version": 3
   },
   "file_extension": ".py",
   "mimetype": "text/x-python",
   "name": "python",
   "nbconvert_exporter": "python",
   "pygments_lexer": "ipython3",
   "version": "3.9.13"
  },
  "orig_nbformat": 4
 },
 "nbformat": 4,
 "nbformat_minor": 2
}
