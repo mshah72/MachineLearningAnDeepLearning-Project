{
 "cells": [
  {
   "cell_type": "code",
   "execution_count": 1,
   "metadata": {},
   "outputs": [],
   "source": [
    "import pandas as pd\n",
    "from sklearn.preprocessing import StandardScaler, OneHotEncoder, OrdinalEncoder\n",
    "from sklearn.ensemble import RandomForestClassifier, RandomForestRegressor\n",
    "from sklearn.linear_model import LinearRegression, Ridge, Lasso\n",
    "from sklearn.feature_selection import RFE\n",
    "from sklearn.feature_selection import SelectKBest, f_regression\n",
    "import time\n",
    "from sklearn.model_selection import train_test_split"
   ]
  },
  {
   "cell_type": "code",
   "execution_count": 2,
   "metadata": {},
   "outputs": [],
   "source": [
    "# Load the datasetata = \"usedcars.csv\"\n",
    "data = 'cleaneddata.csv'\n",
    "df = pd.read_csv(data)"
   ]
  },
  {
   "cell_type": "code",
   "execution_count": 3,
   "metadata": {},
   "outputs": [],
   "source": [
    "# Convert boolean values in 'isOneOwner' column\n",
    "df['isOneOwner'] = df['isOneOwner'].map({'f': 0, 't': 1})"
   ]
  },
  {
   "cell_type": "code",
   "execution_count": 4,
   "metadata": {},
   "outputs": [
    {
     "data": {
      "text/html": [
       "<div>\n",
       "<style scoped>\n",
       "    .dataframe tbody tr th:only-of-type {\n",
       "        vertical-align: middle;\n",
       "    }\n",
       "\n",
       "    .dataframe tbody tr th {\n",
       "        vertical-align: top;\n",
       "    }\n",
       "\n",
       "    .dataframe thead th {\n",
       "        text-align: right;\n",
       "    }\n",
       "</style>\n",
       "<table border=\"1\" class=\"dataframe\">\n",
       "  <thead>\n",
       "    <tr style=\"text-align: right;\">\n",
       "      <th></th>\n",
       "      <th>trim</th>\n",
       "      <th>color</th>\n",
       "      <th>fuel</th>\n",
       "      <th>region</th>\n",
       "    </tr>\n",
       "  </thead>\n",
       "  <tbody>\n",
       "    <tr>\n",
       "      <th>0</th>\n",
       "      <td>0.0</td>\n",
       "      <td>0.0</td>\n",
       "      <td>1.0</td>\n",
       "      <td>6.0</td>\n",
       "    </tr>\n",
       "    <tr>\n",
       "      <th>1</th>\n",
       "      <td>0.0</td>\n",
       "      <td>5.0</td>\n",
       "      <td>1.0</td>\n",
       "      <td>2.0</td>\n",
       "    </tr>\n",
       "    <tr>\n",
       "      <th>2</th>\n",
       "      <td>0.0</td>\n",
       "      <td>4.0</td>\n",
       "      <td>1.0</td>\n",
       "      <td>2.0</td>\n",
       "    </tr>\n",
       "    <tr>\n",
       "      <th>3</th>\n",
       "      <td>3.0</td>\n",
       "      <td>3.0</td>\n",
       "      <td>1.0</td>\n",
       "      <td>2.0</td>\n",
       "    </tr>\n",
       "    <tr>\n",
       "      <th>4</th>\n",
       "      <td>3.0</td>\n",
       "      <td>3.0</td>\n",
       "      <td>1.0</td>\n",
       "      <td>6.0</td>\n",
       "    </tr>\n",
       "    <tr>\n",
       "      <th>...</th>\n",
       "      <td>...</td>\n",
       "      <td>...</td>\n",
       "      <td>...</td>\n",
       "      <td>...</td>\n",
       "    </tr>\n",
       "    <tr>\n",
       "      <th>20058</th>\n",
       "      <td>7.0</td>\n",
       "      <td>0.0</td>\n",
       "      <td>1.0</td>\n",
       "      <td>8.0</td>\n",
       "    </tr>\n",
       "    <tr>\n",
       "      <th>20059</th>\n",
       "      <td>2.0</td>\n",
       "      <td>0.0</td>\n",
       "      <td>2.0</td>\n",
       "      <td>6.0</td>\n",
       "    </tr>\n",
       "    <tr>\n",
       "      <th>20060</th>\n",
       "      <td>2.0</td>\n",
       "      <td>0.0</td>\n",
       "      <td>2.0</td>\n",
       "      <td>8.0</td>\n",
       "    </tr>\n",
       "    <tr>\n",
       "      <th>20061</th>\n",
       "      <td>2.0</td>\n",
       "      <td>4.0</td>\n",
       "      <td>2.0</td>\n",
       "      <td>6.0</td>\n",
       "    </tr>\n",
       "    <tr>\n",
       "      <th>20062</th>\n",
       "      <td>2.0</td>\n",
       "      <td>2.0</td>\n",
       "      <td>2.0</td>\n",
       "      <td>5.0</td>\n",
       "    </tr>\n",
       "  </tbody>\n",
       "</table>\n",
       "<p>20063 rows × 4 columns</p>\n",
       "</div>"
      ],
      "text/plain": [
       "       trim  color  fuel  region\n",
       "0       0.0    0.0   1.0     6.0\n",
       "1       0.0    5.0   1.0     2.0\n",
       "2       0.0    4.0   1.0     2.0\n",
       "3       3.0    3.0   1.0     2.0\n",
       "4       3.0    3.0   1.0     6.0\n",
       "...     ...    ...   ...     ...\n",
       "20058   7.0    0.0   1.0     8.0\n",
       "20059   2.0    0.0   2.0     6.0\n",
       "20060   2.0    0.0   2.0     8.0\n",
       "20061   2.0    4.0   2.0     6.0\n",
       "20062   2.0    2.0   2.0     5.0\n",
       "\n",
       "[20063 rows x 4 columns]"
      ]
     },
     "execution_count": 4,
     "metadata": {},
     "output_type": "execute_result"
    }
   ],
   "source": [
    "categorical_columns = ['trim', 'color', 'fuel', 'region']\n",
    "ordinal_encoder = OrdinalEncoder()\n",
    "ordinal_encoded = ordinal_encoder.fit_transform(df[categorical_columns])\n",
    "ordinal_encoded_df = pd.DataFrame(ordinal_encoded, columns=categorical_columns)\n",
    "ordinal_encoded_df"
   ]
  },
  {
   "cell_type": "code",
   "execution_count": 5,
   "metadata": {},
   "outputs": [],
   "source": [
    "# Merge one-hot encoded columns with the original dataframe\n",
    "df = pd.concat([df.drop(categorical_columns, axis=1), ordinal_encoded_df], axis=1)"
   ]
  },
  {
   "cell_type": "code",
   "execution_count": 6,
   "metadata": {},
   "outputs": [],
   "source": [
    "# Split dataset into features (X) and target (y)\n",
    "X = df.drop(['price'], axis=1)\n",
    "y = df['price']"
   ]
  },
  {
   "cell_type": "code",
   "execution_count": 7,
   "metadata": {},
   "outputs": [
    {
     "data": {
      "text/plain": [
       "RandomForestRegressor()"
      ]
     },
     "execution_count": 7,
     "metadata": {},
     "output_type": "execute_result"
    }
   ],
   "source": [
    "# Create a Random Forest regressor and fit it to the data\n",
    "rf = RandomForestRegressor()\n",
    "rf.fit(X, y)"
   ]
  },
  {
   "cell_type": "code",
   "execution_count": 8,
   "metadata": {},
   "outputs": [
    {
     "name": "stdout",
     "output_type": "stream",
     "text": [
      "isOneOwner: 0.002295652348513824\n",
      "mileage: 0.14779406230999423\n",
      "year: 0.8025725462060611\n",
      "displacement: 0.005555288172719665\n",
      "trim: 0.025485906556256\n",
      "color: 0.006784533301012487\n",
      "fuel: 0.0005332794467498618\n",
      "region: 0.008978731658692733\n"
     ]
    }
   ],
   "source": [
    "# Print the feature importance scores\n",
    "for i, feature in enumerate(X.columns):\n",
    "    print(f'{feature}: {rf.feature_importances_[i]}')"
   ]
  },
  {
   "cell_type": "code",
   "execution_count": 9,
   "metadata": {},
   "outputs": [
    {
     "data": {
      "text/plain": [
       "Ridge()"
      ]
     },
     "execution_count": 9,
     "metadata": {},
     "output_type": "execute_result"
    }
   ],
   "source": [
    "# Create a Ridge regression estimator and fit it to the data\n",
    "ridge = Ridge(alpha=1.0)\n",
    "ridge.fit(X, y)"
   ]
  },
  {
   "cell_type": "code",
   "execution_count": 10,
   "metadata": {},
   "outputs": [
    {
     "data": {
      "text/plain": [
       "RFE(estimator=Ridge(), n_features_to_select=5)"
      ]
     },
     "execution_count": 10,
     "metadata": {},
     "output_type": "execute_result"
    }
   ],
   "source": [
    "# Perform recursive feature elimination\n",
    "rfe = RFE(estimator=ridge, n_features_to_select=5, step=1)\n",
    "rfe.fit(X, y)"
   ]
  },
  {
   "cell_type": "code",
   "execution_count": 11,
   "metadata": {},
   "outputs": [
    {
     "name": "stdout",
     "output_type": "stream",
     "text": [
      "Index(['isOneOwner', 'year', 'displacement', 'trim', 'fuel'], dtype='object')\n"
     ]
    }
   ],
   "source": [
    "# Print the selected features\n",
    "selected_features = X.columns[rfe.support_]\n",
    "print(selected_features)"
   ]
  },
  {
   "cell_type": "code",
   "execution_count": 12,
   "metadata": {},
   "outputs": [
    {
     "name": "stdout",
     "output_type": "stream",
     "text": [
      "0.011017084121704102\n",
      "Selected columns using SelectKBest: ['isOneOwner', 'mileage', 'year', 'displacement', 'trim']\n"
     ]
    }
   ],
   "source": [
    "# Univariate feature selection\n",
    "skb = SelectKBest(f_regression, k=5)\n",
    "skb_start = time.time()\n",
    "X_new = skb.fit_transform(X, y)\n",
    "skb_stop = time.time()\n",
    "\n",
    "print(skb_stop-skb_start)\n",
    "\n",
    "selected_columns = X.columns[skb.get_support()]\n",
    "print(\"Selected columns using SelectKBest:\", list(selected_columns))"
   ]
  },
  {
   "cell_type": "code",
   "execution_count": 13,
   "metadata": {},
   "outputs": [
    {
     "data": {
      "text/html": [
       "<div>\n",
       "<style scoped>\n",
       "    .dataframe tbody tr th:only-of-type {\n",
       "        vertical-align: middle;\n",
       "    }\n",
       "\n",
       "    .dataframe tbody tr th {\n",
       "        vertical-align: top;\n",
       "    }\n",
       "\n",
       "    .dataframe thead th {\n",
       "        text-align: right;\n",
       "    }\n",
       "</style>\n",
       "<table border=\"1\" class=\"dataframe\">\n",
       "  <thead>\n",
       "    <tr style=\"text-align: right;\">\n",
       "      <th></th>\n",
       "      <th>isOneOwner</th>\n",
       "      <th>mileage</th>\n",
       "      <th>year</th>\n",
       "      <th>displacement</th>\n",
       "      <th>trim</th>\n",
       "    </tr>\n",
       "  </thead>\n",
       "  <tbody>\n",
       "    <tr>\n",
       "      <th>0</th>\n",
       "      <td>0</td>\n",
       "      <td>193.296</td>\n",
       "      <td>1995</td>\n",
       "      <td>3.2</td>\n",
       "      <td>0.0</td>\n",
       "    </tr>\n",
       "    <tr>\n",
       "      <th>1</th>\n",
       "      <td>0</td>\n",
       "      <td>129.948</td>\n",
       "      <td>1995</td>\n",
       "      <td>3.2</td>\n",
       "      <td>0.0</td>\n",
       "    </tr>\n",
       "    <tr>\n",
       "      <th>2</th>\n",
       "      <td>0</td>\n",
       "      <td>140.428</td>\n",
       "      <td>1997</td>\n",
       "      <td>3.2</td>\n",
       "      <td>0.0</td>\n",
       "    </tr>\n",
       "    <tr>\n",
       "      <th>3</th>\n",
       "      <td>0</td>\n",
       "      <td>113.622</td>\n",
       "      <td>1999</td>\n",
       "      <td>4.2</td>\n",
       "      <td>3.0</td>\n",
       "    </tr>\n",
       "    <tr>\n",
       "      <th>4</th>\n",
       "      <td>0</td>\n",
       "      <td>167.673</td>\n",
       "      <td>1999</td>\n",
       "      <td>4.2</td>\n",
       "      <td>3.0</td>\n",
       "    </tr>\n",
       "    <tr>\n",
       "      <th>...</th>\n",
       "      <td>...</td>\n",
       "      <td>...</td>\n",
       "      <td>...</td>\n",
       "      <td>...</td>\n",
       "      <td>...</td>\n",
       "    </tr>\n",
       "    <tr>\n",
       "      <th>20058</th>\n",
       "      <td>1</td>\n",
       "      <td>17.181</td>\n",
       "      <td>2013</td>\n",
       "      <td>4.6</td>\n",
       "      <td>7.0</td>\n",
       "    </tr>\n",
       "    <tr>\n",
       "      <th>20059</th>\n",
       "      <td>1</td>\n",
       "      <td>53.885</td>\n",
       "      <td>2010</td>\n",
       "      <td>3.5</td>\n",
       "      <td>2.0</td>\n",
       "    </tr>\n",
       "    <tr>\n",
       "      <th>20060</th>\n",
       "      <td>0</td>\n",
       "      <td>47.484</td>\n",
       "      <td>2010</td>\n",
       "      <td>3.5</td>\n",
       "      <td>2.0</td>\n",
       "    </tr>\n",
       "    <tr>\n",
       "      <th>20061</th>\n",
       "      <td>0</td>\n",
       "      <td>42.972</td>\n",
       "      <td>2010</td>\n",
       "      <td>3.5</td>\n",
       "      <td>2.0</td>\n",
       "    </tr>\n",
       "    <tr>\n",
       "      <th>20062</th>\n",
       "      <td>1</td>\n",
       "      <td>46.495</td>\n",
       "      <td>2011</td>\n",
       "      <td>3.5</td>\n",
       "      <td>2.0</td>\n",
       "    </tr>\n",
       "  </tbody>\n",
       "</table>\n",
       "<p>20063 rows × 5 columns</p>\n",
       "</div>"
      ],
      "text/plain": [
       "       isOneOwner  mileage  year  displacement  trim\n",
       "0               0  193.296  1995           3.2   0.0\n",
       "1               0  129.948  1995           3.2   0.0\n",
       "2               0  140.428  1997           3.2   0.0\n",
       "3               0  113.622  1999           4.2   3.0\n",
       "4               0  167.673  1999           4.2   3.0\n",
       "...           ...      ...   ...           ...   ...\n",
       "20058           1   17.181  2013           4.6   7.0\n",
       "20059           1   53.885  2010           3.5   2.0\n",
       "20060           0   47.484  2010           3.5   2.0\n",
       "20061           0   42.972  2010           3.5   2.0\n",
       "20062           1   46.495  2011           3.5   2.0\n",
       "\n",
       "[20063 rows x 5 columns]"
      ]
     },
     "execution_count": 13,
     "metadata": {},
     "output_type": "execute_result"
    }
   ],
   "source": [
    "X_final = X[['isOneOwner', 'mileage', 'year', 'displacement', 'trim']]\n",
    "X_final"
   ]
  },
  {
   "cell_type": "code",
   "execution_count": 18,
   "metadata": {},
   "outputs": [
    {
     "data": {
      "text/html": [
       "<div>\n",
       "<style scoped>\n",
       "    .dataframe tbody tr th:only-of-type {\n",
       "        vertical-align: middle;\n",
       "    }\n",
       "\n",
       "    .dataframe tbody tr th {\n",
       "        vertical-align: top;\n",
       "    }\n",
       "\n",
       "    .dataframe thead th {\n",
       "        text-align: right;\n",
       "    }\n",
       "</style>\n",
       "<table border=\"1\" class=\"dataframe\">\n",
       "  <thead>\n",
       "    <tr style=\"text-align: right;\">\n",
       "      <th></th>\n",
       "      <th>price</th>\n",
       "      <th>isOneOwner</th>\n",
       "      <th>mileage</th>\n",
       "      <th>year</th>\n",
       "      <th>displacement</th>\n",
       "      <th>trim</th>\n",
       "    </tr>\n",
       "  </thead>\n",
       "  <tbody>\n",
       "    <tr>\n",
       "      <th>0</th>\n",
       "      <td>2.988</td>\n",
       "      <td>0</td>\n",
       "      <td>193.296</td>\n",
       "      <td>1995</td>\n",
       "      <td>3.2</td>\n",
       "      <td>0.0</td>\n",
       "    </tr>\n",
       "    <tr>\n",
       "      <th>1</th>\n",
       "      <td>6.595</td>\n",
       "      <td>0</td>\n",
       "      <td>129.948</td>\n",
       "      <td>1995</td>\n",
       "      <td>3.2</td>\n",
       "      <td>0.0</td>\n",
       "    </tr>\n",
       "    <tr>\n",
       "      <th>2</th>\n",
       "      <td>7.993</td>\n",
       "      <td>0</td>\n",
       "      <td>140.428</td>\n",
       "      <td>1997</td>\n",
       "      <td>3.2</td>\n",
       "      <td>0.0</td>\n",
       "    </tr>\n",
       "    <tr>\n",
       "      <th>3</th>\n",
       "      <td>5.995</td>\n",
       "      <td>0</td>\n",
       "      <td>113.622</td>\n",
       "      <td>1999</td>\n",
       "      <td>4.2</td>\n",
       "      <td>3.0</td>\n",
       "    </tr>\n",
       "    <tr>\n",
       "      <th>4</th>\n",
       "      <td>3.000</td>\n",
       "      <td>0</td>\n",
       "      <td>167.673</td>\n",
       "      <td>1999</td>\n",
       "      <td>4.2</td>\n",
       "      <td>3.0</td>\n",
       "    </tr>\n",
       "    <tr>\n",
       "      <th>...</th>\n",
       "      <td>...</td>\n",
       "      <td>...</td>\n",
       "      <td>...</td>\n",
       "      <td>...</td>\n",
       "      <td>...</td>\n",
       "      <td>...</td>\n",
       "    </tr>\n",
       "    <tr>\n",
       "      <th>20058</th>\n",
       "      <td>67.950</td>\n",
       "      <td>1</td>\n",
       "      <td>17.181</td>\n",
       "      <td>2013</td>\n",
       "      <td>4.6</td>\n",
       "      <td>7.0</td>\n",
       "    </tr>\n",
       "    <tr>\n",
       "      <th>20059</th>\n",
       "      <td>31.995</td>\n",
       "      <td>1</td>\n",
       "      <td>53.885</td>\n",
       "      <td>2010</td>\n",
       "      <td>3.5</td>\n",
       "      <td>2.0</td>\n",
       "    </tr>\n",
       "    <tr>\n",
       "      <th>20060</th>\n",
       "      <td>34.995</td>\n",
       "      <td>0</td>\n",
       "      <td>47.484</td>\n",
       "      <td>2010</td>\n",
       "      <td>3.5</td>\n",
       "      <td>2.0</td>\n",
       "    </tr>\n",
       "    <tr>\n",
       "      <th>20061</th>\n",
       "      <td>38.991</td>\n",
       "      <td>0</td>\n",
       "      <td>42.972</td>\n",
       "      <td>2010</td>\n",
       "      <td>3.5</td>\n",
       "      <td>2.0</td>\n",
       "    </tr>\n",
       "    <tr>\n",
       "      <th>20062</th>\n",
       "      <td>34.995</td>\n",
       "      <td>1</td>\n",
       "      <td>46.495</td>\n",
       "      <td>2011</td>\n",
       "      <td>3.5</td>\n",
       "      <td>2.0</td>\n",
       "    </tr>\n",
       "  </tbody>\n",
       "</table>\n",
       "<p>20063 rows × 6 columns</p>\n",
       "</div>"
      ],
      "text/plain": [
       "        price  isOneOwner  mileage  year  displacement  trim\n",
       "0       2.988           0  193.296  1995           3.2   0.0\n",
       "1       6.595           0  129.948  1995           3.2   0.0\n",
       "2       7.993           0  140.428  1997           3.2   0.0\n",
       "3       5.995           0  113.622  1999           4.2   3.0\n",
       "4       3.000           0  167.673  1999           4.2   3.0\n",
       "...       ...         ...      ...   ...           ...   ...\n",
       "20058  67.950           1   17.181  2013           4.6   7.0\n",
       "20059  31.995           1   53.885  2010           3.5   2.0\n",
       "20060  34.995           0   47.484  2010           3.5   2.0\n",
       "20061  38.991           0   42.972  2010           3.5   2.0\n",
       "20062  34.995           1   46.495  2011           3.5   2.0\n",
       "\n",
       "[20063 rows x 6 columns]"
      ]
     },
     "execution_count": 18,
     "metadata": {},
     "output_type": "execute_result"
    }
   ],
   "source": [
    "new_df = pd.concat([df['price'], X_final], axis=1)\n",
    "new_df"
   ]
  },
  {
   "cell_type": "code",
   "execution_count": 19,
   "metadata": {},
   "outputs": [],
   "source": [
    "# Split the dataset into training and testing sets\n",
    "# X_train, X_test, y_train, y_test = train_test_split(X_final, y, test_size=0.2, random_state=42)\n",
    "train_df, test_df = train_test_split(new_df, test_size=0.2, random_state=42)"
   ]
  },
  {
   "cell_type": "code",
   "execution_count": 20,
   "metadata": {},
   "outputs": [],
   "source": [
    "# save the training and testing data to separate CSV files\n",
    "train_df.to_csv('train_data.csv', index=False)\n",
    "test_df.to_csv('test_data.csv', index=False)"
   ]
  }
 ],
 "metadata": {
  "kernelspec": {
   "display_name": "base",
   "language": "python",
   "name": "python3"
  },
  "language_info": {
   "codemirror_mode": {
    "name": "ipython",
    "version": 3
   },
   "file_extension": ".py",
   "mimetype": "text/x-python",
   "name": "python",
   "nbconvert_exporter": "python",
   "pygments_lexer": "ipython3",
   "version": "3.9.13"
  },
  "orig_nbformat": 4
 },
 "nbformat": 4,
 "nbformat_minor": 2
}
